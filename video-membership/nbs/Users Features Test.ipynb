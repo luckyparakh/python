{
 "cells": [
  {
   "cell_type": "code",
   "execution_count": 12,
   "id": "7e2814f5-891b-4b5b-84a3-275a008a221b",
   "metadata": {},
   "outputs": [
    {
     "name": "stdout",
     "output_type": "stream",
     "text": [
      "/home/vboxuser/repos/python/video-membership\n"
     ]
    },
    {
     "name": "stderr",
     "output_type": "stream",
     "text": [
      "/home/vboxuser/repos/python/video-membership/venv/lib/python3.10/site-packages/IPython/core/magics/osm.py:417: UserWarning: This is now an optional IPython functionality, setting dhist requires you to install the `pickleshare` library.\n",
      "  self.shell.db['dhist'] = compress_dhist(dhist)[-100:]\n"
     ]
    }
   ],
   "source": [
    "%cd /home/vboxuser/repos/python/video-membership"
   ]
  },
  {
   "cell_type": "code",
   "execution_count": 13,
   "id": "84c898e7-47e9-457f-a478-28c5a4e01fc1",
   "metadata": {},
   "outputs": [
    {
     "data": {
      "text/plain": [
       "'/home/vboxuser/repos/python/video-membership'"
      ]
     },
     "execution_count": 13,
     "metadata": {},
     "output_type": "execute_result"
    }
   ],
   "source": [
    "%pwd"
   ]
  },
  {
   "cell_type": "code",
   "execution_count": 14,
   "id": "f835f79c-6dfb-4e58-a42c-ffc19127c763",
   "metadata": {},
   "outputs": [],
   "source": [
    "from app.users.models import User\n",
    "from cassandra.cqlengine.management import sync_table\n",
    "from app import db\n"
   ]
  },
  {
   "cell_type": "code",
   "execution_count": 15,
   "id": "c3e4c35e-811d-42d8-9948-6d6d84147da3",
   "metadata": {},
   "outputs": [],
   "source": [
    "db.get_session()\n",
    "sync_table(User)"
   ]
  },
  {
   "cell_type": "code",
   "execution_count": 16,
   "id": "687270f1-7fb2-4a6a-ba30-d582f00180c6",
   "metadata": {},
   "outputs": [
    {
     "ename": "Exception",
     "evalue": "User already exists",
     "output_type": "error",
     "traceback": [
      "\u001b[0;31m---------------------------------------------------------------------------\u001b[0m",
      "\u001b[0;31mException\u001b[0m                                 Traceback (most recent call last)",
      "Cell \u001b[0;32mIn[16], line 1\u001b[0m\n\u001b[0;32m----> 1\u001b[0m \u001b[43mUser\u001b[49m\u001b[38;5;241;43m.\u001b[39;49m\u001b[43mcreate_user\u001b[49m\u001b[43m(\u001b[49m\u001b[38;5;124;43m'\u001b[39;49m\u001b[38;5;124;43mlp@gmail.com\u001b[39;49m\u001b[38;5;124;43m'\u001b[39;49m\u001b[43m,\u001b[49m\u001b[38;5;124;43m'\u001b[39;49m\u001b[38;5;124;43mabc\u001b[39;49m\u001b[38;5;124;43m'\u001b[39;49m\u001b[43m)\u001b[49m\n",
      "File \u001b[0;32m~/repos/python/video-membership/app/users/models.py:34\u001b[0m, in \u001b[0;36mUser.create_user\u001b[0;34m(email, password)\u001b[0m\n\u001b[1;32m     32\u001b[0m q \u001b[38;5;241m=\u001b[39m User\u001b[38;5;241m.\u001b[39mobjects\u001b[38;5;241m.\u001b[39mfilter(email\u001b[38;5;241m=\u001b[39memail)\n\u001b[1;32m     33\u001b[0m \u001b[38;5;28;01mif\u001b[39;00m q\u001b[38;5;241m.\u001b[39mcount() \u001b[38;5;241m>\u001b[39m \u001b[38;5;241m0\u001b[39m:\n\u001b[0;32m---> 34\u001b[0m     \u001b[38;5;28;01mraise\u001b[39;00m \u001b[38;5;167;01mException\u001b[39;00m(\u001b[38;5;124m\"\u001b[39m\u001b[38;5;124mUser already exists\u001b[39m\u001b[38;5;124m\"\u001b[39m)\n\u001b[1;32m     35\u001b[0m valid, msg, email \u001b[38;5;241m=\u001b[39m validate_email_format(email)\n\u001b[1;32m     36\u001b[0m \u001b[38;5;28;01mif\u001b[39;00m \u001b[38;5;129;01mnot\u001b[39;00m valid:\n",
      "\u001b[0;31mException\u001b[0m: User already exists"
     ]
    }
   ],
   "source": [
    "User.create_user('lp@gmail.com','abc')"
   ]
  },
  {
   "cell_type": "code",
   "execution_count": null,
   "id": "763cffa1-dff0-4a94-8623-06a75bc0f0b8",
   "metadata": {},
   "outputs": [
    {
     "ename": "Exception",
     "evalue": "Invalid Email:The part after the @-sign is not valid. It should have a period.",
     "output_type": "error",
     "traceback": [
      "\u001b[0;31m---------------------------------------------------------------------------\u001b[0m",
      "\u001b[0;31mException\u001b[0m                                 Traceback (most recent call last)",
      "Cell \u001b[0;32mIn[13], line 1\u001b[0m\n\u001b[0;32m----> 1\u001b[0m \u001b[43mUser\u001b[49m\u001b[38;5;241;43m.\u001b[39;49m\u001b[43mcreate_user\u001b[49m\u001b[43m(\u001b[49m\u001b[38;5;124;43m'\u001b[39;49m\u001b[38;5;124;43mlp@gmail\u001b[39;49m\u001b[38;5;124;43m'\u001b[39;49m\u001b[43m,\u001b[49m\u001b[38;5;124;43m'\u001b[39;49m\u001b[38;5;124;43mabc\u001b[39;49m\u001b[38;5;124;43m'\u001b[39;49m\u001b[43m)\u001b[49m\n",
      "File \u001b[0;32m~/repos/python/video-membership/app/users/models.py:37\u001b[0m, in \u001b[0;36mUser.create_user\u001b[0;34m(email, password)\u001b[0m\n\u001b[1;32m     35\u001b[0m valid, msg, email \u001b[38;5;241m=\u001b[39m validate_email_format(email)\n\u001b[1;32m     36\u001b[0m \u001b[38;5;28;01mif\u001b[39;00m \u001b[38;5;129;01mnot\u001b[39;00m valid:\n\u001b[0;32m---> 37\u001b[0m     \u001b[38;5;28;01mraise\u001b[39;00m \u001b[38;5;167;01mException\u001b[39;00m(\u001b[38;5;124mf\u001b[39m\u001b[38;5;124m\"\u001b[39m\u001b[38;5;124mInvalid Email:\u001b[39m\u001b[38;5;132;01m{\u001b[39;00mmsg\u001b[38;5;132;01m}\u001b[39;00m\u001b[38;5;124m\"\u001b[39m)\n\u001b[1;32m     38\u001b[0m user \u001b[38;5;241m=\u001b[39m User(email\u001b[38;5;241m=\u001b[39memail)\n\u001b[1;32m     39\u001b[0m user\u001b[38;5;241m.\u001b[39mset_password(password)\n",
      "\u001b[0;31mException\u001b[0m: Invalid Email:The part after the @-sign is not valid. It should have a period."
     ]
    }
   ],
   "source": [
    "User.create_user('lp@gmail','abc')"
   ]
  },
  {
   "cell_type": "code",
   "execution_count": null,
   "id": "11f23a63-d8d8-4a82-b8cb-5d9c041e58c5",
   "metadata": {},
   "outputs": [],
   "source": [
    "user_a = User.create_user('abc@gmail.com','abc123')"
   ]
  },
  {
   "cell_type": "code",
   "execution_count": null,
   "id": "faacac65-88e5-42e8-a15d-40a4630b0774",
   "metadata": {},
   "outputs": [
    {
     "data": {
      "text/plain": [
       "'$argon2id$v=19$m=65536,t=3,p=4$FVjKj8vyYR6DQl382VzIUA$Eqn10anThN/SW8tN7baeCwLrMTGVv4Qhbir45iucj6A'"
      ]
     },
     "execution_count": 15,
     "metadata": {},
     "output_type": "execute_result"
    }
   ],
   "source": [
    "user_a.password"
   ]
  },
  {
   "cell_type": "code",
   "execution_count": null,
   "id": "429f3e0d-5337-4ecc-ae37-7e0cf6046b33",
   "metadata": {},
   "outputs": [
    {
     "data": {
      "text/plain": [
       "True"
      ]
     },
     "execution_count": 18,
     "metadata": {},
     "output_type": "execute_result"
    }
   ],
   "source": [
    "user_a.verify_password('abc123')"
   ]
  },
  {
   "cell_type": "code",
   "execution_count": null,
   "id": "280a7ce1-4ed9-4794-89eb-6f3f76045d64",
   "metadata": {},
   "outputs": [],
   "source": [
    "from pydantic import BaseModel\n",
    "\n",
    "class UserLoginSchema(BaseModel):\n",
    "    email: str\n",
    "    password: str\n"
   ]
  },
  {
   "cell_type": "code",
   "execution_count": null,
   "id": "fb9b4bba",
   "metadata": {},
   "outputs": [
    {
     "data": {
      "text/plain": [
       "UserLoginSchema(email='abc', password='abc123')"
      ]
     },
     "execution_count": 8,
     "metadata": {},
     "output_type": "execute_result"
    }
   ],
   "source": [
    "user_a = {'email':'abc','password':'abc123'}\n",
    "UserLoginSchema(**user_a)"
   ]
  },
  {
   "cell_type": "code",
   "execution_count": null,
   "id": "145a0929",
   "metadata": {},
   "outputs": [],
   "source": [
    "from pydantic import BaseModel, EmailStr,SecretStr\n",
    "\n",
    "class UserLoginSchema(BaseModel):\n",
    "    email: EmailStr\n",
    "    password: SecretStr"
   ]
  },
  {
   "cell_type": "code",
   "execution_count": null,
   "id": "2e82ba35",
   "metadata": {},
   "outputs": [
    {
     "ename": "ValidationError",
     "evalue": "1 validation error for UserLoginSchema\nemail\n  value is not a valid email address: An email address must have an @-sign. [type=value_error, input_value='abc', input_type=str]",
     "output_type": "error",
     "traceback": [
      "\u001b[0;31m---------------------------------------------------------------------------\u001b[0m",
      "\u001b[0;31mValidationError\u001b[0m                           Traceback (most recent call last)",
      "Cell \u001b[0;32mIn[10], line 2\u001b[0m\n\u001b[1;32m      1\u001b[0m user_a \u001b[38;5;241m=\u001b[39m {\u001b[38;5;124m'\u001b[39m\u001b[38;5;124memail\u001b[39m\u001b[38;5;124m'\u001b[39m:\u001b[38;5;124m'\u001b[39m\u001b[38;5;124mabc\u001b[39m\u001b[38;5;124m'\u001b[39m,\u001b[38;5;124m'\u001b[39m\u001b[38;5;124mpassword\u001b[39m\u001b[38;5;124m'\u001b[39m:\u001b[38;5;124m'\u001b[39m\u001b[38;5;124mabc123\u001b[39m\u001b[38;5;124m'\u001b[39m}\n\u001b[0;32m----> 2\u001b[0m \u001b[43mUserLoginSchema\u001b[49m\u001b[43m(\u001b[49m\u001b[38;5;241;43m*\u001b[39;49m\u001b[38;5;241;43m*\u001b[39;49m\u001b[43muser_a\u001b[49m\u001b[43m)\u001b[49m\n",
      "File \u001b[0;32m~/repos/python/video-membership/venv/lib/python3.10/site-packages/pydantic/main.py:192\u001b[0m, in \u001b[0;36mBaseModel.__init__\u001b[0;34m(self, **data)\u001b[0m\n\u001b[1;32m    190\u001b[0m \u001b[38;5;66;03m# `__tracebackhide__` tells pytest and some other tools to omit this function from tracebacks\u001b[39;00m\n\u001b[1;32m    191\u001b[0m __tracebackhide__ \u001b[38;5;241m=\u001b[39m \u001b[38;5;28;01mTrue\u001b[39;00m\n\u001b[0;32m--> 192\u001b[0m \u001b[38;5;28;43mself\u001b[39;49m\u001b[38;5;241;43m.\u001b[39;49m\u001b[43m__pydantic_validator__\u001b[49m\u001b[38;5;241;43m.\u001b[39;49m\u001b[43mvalidate_python\u001b[49m\u001b[43m(\u001b[49m\u001b[43mdata\u001b[49m\u001b[43m,\u001b[49m\u001b[43m \u001b[49m\u001b[43mself_instance\u001b[49m\u001b[38;5;241;43m=\u001b[39;49m\u001b[38;5;28;43mself\u001b[39;49m\u001b[43m)\u001b[49m\n",
      "\u001b[0;31mValidationError\u001b[0m: 1 validation error for UserLoginSchema\nemail\n  value is not a valid email address: An email address must have an @-sign. [type=value_error, input_value='abc', input_type=str]"
     ]
    }
   ],
   "source": [
    "user_a = {'email':'abc','password':'abc123'}\n",
    "UserLoginSchema(**user_a)"
   ]
  },
  {
   "cell_type": "code",
   "execution_count": 17,
   "id": "cc87be8e",
   "metadata": {},
   "outputs": [
    {
     "data": {
      "text/plain": [
       "UserLoginSchema(email='abc@abc.com', password=SecretStr('**********'))"
      ]
     },
     "execution_count": 17,
     "metadata": {},
     "output_type": "execute_result"
    }
   ],
   "source": [
    "user_a = {'email':'abc@abc.com','password':'abc123'}\n",
    "UserLoginSchema(**user_a)"
   ]
  },
  {
   "cell_type": "code",
   "execution_count": 33,
   "id": "5bd644e6",
   "metadata": {},
   "outputs": [],
   "source": [
    "from pydantic import BaseModel, EmailStr,SecretStr,field_validator\n",
    "\n",
    "class UserSignUpSchema(BaseModel):\n",
    "    email: EmailStr\n",
    "    password: SecretStr\n",
    "    password_confirm: SecretStr\n",
    "\n",
    "    @field_validator('password_confirm')\n",
    "    def passwords_match(cls,v,values):\n",
    "        if v != values.data.get('password'):\n",
    "            raise ValueError('Passwords do not match')\n",
    "        return v\n",
    "    @field_validator('email')\n",
    "    def email_match(cls,v,values):\n",
    "        if v != values.data.get('email'):\n",
    "            raise ValueError('Passwords do not match')\n",
    "        return v"
   ]
  },
  {
   "cell_type": "code",
   "execution_count": 40,
   "id": "3f22bf0b",
   "metadata": {},
   "outputs": [],
   "source": [
    "user_a = {'email':'abc@abc.com','password':'abc123','password_confirm':'abc123'}\n",
    "data=UserSignUpSchema(**user_a)"
   ]
  },
  {
   "cell_type": "code",
   "execution_count": 41,
   "id": "5177b6e2",
   "metadata": {},
   "outputs": [
    {
     "ename": "ValidationError",
     "evalue": "1 validation error for UserSignUpSchema\npassword_confirm\n  Value error, Passwords do not match [type=value_error, input_value='abc1234', input_type=str]\n    For further information visit https://errors.pydantic.dev/2.8/v/value_error",
     "output_type": "error",
     "traceback": [
      "\u001b[0;31m---------------------------------------------------------------------------\u001b[0m",
      "\u001b[0;31mValidationError\u001b[0m                           Traceback (most recent call last)",
      "Cell \u001b[0;32mIn[41], line 2\u001b[0m\n\u001b[1;32m      1\u001b[0m user_a \u001b[38;5;241m=\u001b[39m {\u001b[38;5;124m'\u001b[39m\u001b[38;5;124memail\u001b[39m\u001b[38;5;124m'\u001b[39m:\u001b[38;5;124m'\u001b[39m\u001b[38;5;124mabc@abc.com\u001b[39m\u001b[38;5;124m'\u001b[39m,\u001b[38;5;124m'\u001b[39m\u001b[38;5;124mpassword\u001b[39m\u001b[38;5;124m'\u001b[39m:\u001b[38;5;124m'\u001b[39m\u001b[38;5;124mabc123\u001b[39m\u001b[38;5;124m'\u001b[39m,\u001b[38;5;124m'\u001b[39m\u001b[38;5;124mpassword_confirm\u001b[39m\u001b[38;5;124m'\u001b[39m:\u001b[38;5;124m'\u001b[39m\u001b[38;5;124mabc1234\u001b[39m\u001b[38;5;124m'\u001b[39m}\n\u001b[0;32m----> 2\u001b[0m \u001b[43mUserSignUpSchema\u001b[49m\u001b[43m(\u001b[49m\u001b[38;5;241;43m*\u001b[39;49m\u001b[38;5;241;43m*\u001b[39;49m\u001b[43muser_a\u001b[49m\u001b[43m)\u001b[49m\n",
      "File \u001b[0;32m~/repos/python/video-membership/venv/lib/python3.10/site-packages/pydantic/main.py:192\u001b[0m, in \u001b[0;36mBaseModel.__init__\u001b[0;34m(self, **data)\u001b[0m\n\u001b[1;32m    190\u001b[0m \u001b[38;5;66;03m# `__tracebackhide__` tells pytest and some other tools to omit this function from tracebacks\u001b[39;00m\n\u001b[1;32m    191\u001b[0m __tracebackhide__ \u001b[38;5;241m=\u001b[39m \u001b[38;5;28;01mTrue\u001b[39;00m\n\u001b[0;32m--> 192\u001b[0m \u001b[38;5;28;43mself\u001b[39;49m\u001b[38;5;241;43m.\u001b[39;49m\u001b[43m__pydantic_validator__\u001b[49m\u001b[38;5;241;43m.\u001b[39;49m\u001b[43mvalidate_python\u001b[49m\u001b[43m(\u001b[49m\u001b[43mdata\u001b[49m\u001b[43m,\u001b[49m\u001b[43m \u001b[49m\u001b[43mself_instance\u001b[49m\u001b[38;5;241;43m=\u001b[39;49m\u001b[38;5;28;43mself\u001b[39;49m\u001b[43m)\u001b[49m\n",
      "\u001b[0;31mValidationError\u001b[0m: 1 validation error for UserSignUpSchema\npassword_confirm\n  Value error, Passwords do not match [type=value_error, input_value='abc1234', input_type=str]\n    For further information visit https://errors.pydantic.dev/2.8/v/value_error"
     ]
    }
   ],
   "source": [
    "user_a = {'email':'abc@abc.com','password':'abc123','password_confirm':'abc1234'}\n",
    "UserSignUpSchema(**user_a)"
   ]
  },
  {
   "cell_type": "code",
   "execution_count": 44,
   "id": "f4586c81",
   "metadata": {},
   "outputs": [
    {
     "data": {
      "text/plain": [
       "'abc@abc.com'"
      ]
     },
     "execution_count": 44,
     "metadata": {},
     "output_type": "execute_result"
    }
   ],
   "source": [
    "data.dict().get('email')"
   ]
  },
  {
   "cell_type": "code",
   "execution_count": 45,
   "id": "638591a5",
   "metadata": {},
   "outputs": [
    {
     "data": {
      "text/plain": [
       "'abc123'"
      ]
     },
     "execution_count": 45,
     "metadata": {},
     "output_type": "execute_result"
    }
   ],
   "source": [
    "data.dict().get('password').get_secret_value()"
   ]
  },
  {
   "cell_type": "code",
   "execution_count": 46,
   "id": "f806fcad",
   "metadata": {},
   "outputs": [
    {
     "data": {
      "text/plain": [
       "['__abstractmethods__',\n",
       " '__annotations__',\n",
       " '__class__',\n",
       " '__class_getitem__',\n",
       " '__class_vars__',\n",
       " '__copy__',\n",
       " '__deepcopy__',\n",
       " '__delattr__',\n",
       " '__dict__',\n",
       " '__dir__',\n",
       " '__doc__',\n",
       " '__eq__',\n",
       " '__fields__',\n",
       " '__fields_set__',\n",
       " '__format__',\n",
       " '__ge__',\n",
       " '__get_pydantic_core_schema__',\n",
       " '__get_pydantic_json_schema__',\n",
       " '__getattr__',\n",
       " '__getattribute__',\n",
       " '__getstate__',\n",
       " '__gt__',\n",
       " '__hash__',\n",
       " '__init__',\n",
       " '__init_subclass__',\n",
       " '__iter__',\n",
       " '__le__',\n",
       " '__lt__',\n",
       " '__module__',\n",
       " '__ne__',\n",
       " '__new__',\n",
       " '__pretty__',\n",
       " '__private_attributes__',\n",
       " '__pydantic_complete__',\n",
       " '__pydantic_core_schema__',\n",
       " '__pydantic_custom_init__',\n",
       " '__pydantic_decorators__',\n",
       " '__pydantic_extra__',\n",
       " '__pydantic_fields_set__',\n",
       " '__pydantic_generic_metadata__',\n",
       " '__pydantic_init_subclass__',\n",
       " '__pydantic_parent_namespace__',\n",
       " '__pydantic_post_init__',\n",
       " '__pydantic_private__',\n",
       " '__pydantic_root_model__',\n",
       " '__pydantic_serializer__',\n",
       " '__pydantic_validator__',\n",
       " '__reduce__',\n",
       " '__reduce_ex__',\n",
       " '__repr__',\n",
       " '__repr_args__',\n",
       " '__repr_name__',\n",
       " '__repr_str__',\n",
       " '__rich_repr__',\n",
       " '__setattr__',\n",
       " '__setstate__',\n",
       " '__signature__',\n",
       " '__sizeof__',\n",
       " '__slots__',\n",
       " '__str__',\n",
       " '__subclasshook__',\n",
       " '__weakref__',\n",
       " '_abc_impl',\n",
       " '_calculate_keys',\n",
       " '_check_frozen',\n",
       " '_copy_and_set_values',\n",
       " '_get_value',\n",
       " '_iter',\n",
       " 'construct',\n",
       " 'copy',\n",
       " 'dict',\n",
       " 'email',\n",
       " 'from_orm',\n",
       " 'json',\n",
       " 'model_computed_fields',\n",
       " 'model_config',\n",
       " 'model_construct',\n",
       " 'model_copy',\n",
       " 'model_dump',\n",
       " 'model_dump_json',\n",
       " 'model_extra',\n",
       " 'model_fields',\n",
       " 'model_fields_set',\n",
       " 'model_json_schema',\n",
       " 'model_parametrized_name',\n",
       " 'model_post_init',\n",
       " 'model_rebuild',\n",
       " 'model_validate',\n",
       " 'model_validate_json',\n",
       " 'model_validate_strings',\n",
       " 'parse_file',\n",
       " 'parse_obj',\n",
       " 'parse_raw',\n",
       " 'password',\n",
       " 'password_confirm',\n",
       " 'passwords_match',\n",
       " 'schema',\n",
       " 'schema_json',\n",
       " 'update_forward_refs',\n",
       " 'validate']"
      ]
     },
     "execution_count": 46,
     "metadata": {},
     "output_type": "execute_result"
    }
   ],
   "source": [
    "dir(data)"
   ]
  }
 ],
 "metadata": {
  "kernelspec": {
   "display_name": "Python 3 (ipykernel)",
   "language": "python",
   "name": "python3"
  },
  "language_info": {
   "codemirror_mode": {
    "name": "ipython",
    "version": 3
   },
   "file_extension": ".py",
   "mimetype": "text/x-python",
   "name": "python",
   "nbconvert_exporter": "python",
   "pygments_lexer": "ipython3",
   "version": "3.10.12"
  }
 },
 "nbformat": 4,
 "nbformat_minor": 5
}
